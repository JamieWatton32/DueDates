{
 "cells": [
  {
   "cell_type": "code",
   "execution_count": 143,
   "metadata": {},
   "outputs": [],
   "source": [
    "from datetime import datetime\n",
    "import xlrd\n",
    "import tkinter as tk\n",
    "import pandas as pd\n",
    "import numpy as np"
   ]
  },
  {
   "cell_type": "code",
   "execution_count": 144,
   "metadata": {},
   "outputs": [],
   "source": [
    "class DataTime():\n",
    "   def _\n",
    "   def BuildFrames(File):\n",
    "      File = pd.read_csv(\"DueDates.csv\")\n",
    "      File = pd.read_csv(\"DueDates.csv\")\n",
    "      OsysDateTimes = File[[\"Osys\",\"OsysTime\"]].copy()\n",
    "      df = File[[\"Networking\",\"NetTime\"]].copy()\n",
    "      NetworkingDateTimes = df.dropna()\n",
    "            "
   ]
  },
  {
   "cell_type": "code",
   "execution_count": 145,
   "metadata": {},
   "outputs": [],
   "source": [
    "    def ConvertToNumpy(Data):\n",
    "        print(Data)"
   ]
  },
  {
   "cell_type": "code",
   "execution_count": 146,
   "metadata": {},
   "outputs": [
    {
     "name": "stdout",
     "output_type": "stream",
     "text": [
      "             Osys     OsysTime\n",
      "0    Assignment 1  45305.97917\n",
      "1    Assignment 2  45312.97917\n",
      "2    Assignment 4  45340.97917\n",
      "3    Assignment 5  45354.97917\n",
      "4    Assignment 6  45375.97917\n",
      "5    Assignment 7  45382.97917\n",
      "6   FINAL PROJECT  45399.97917\n",
      "7           Quiz1  45305.97917\n",
      "8           Quiz2  45312.97917\n",
      "9           Quiz3  45319.97917\n",
      "10          Quiz4  45326.97917\n",
      "11          Quiz5  45333.52083\n",
      "12          Quiz6  45333.52083\n",
      "13          Quiz7  45340.97917\n",
      "14          Quiz8  45354.97917\n",
      "15          Quiz9  45389.97917\n",
      "16         Quiz10  45396.97917\n"
     ]
    }
   ],
   "source": [
    "def main():\n",
    "    File = pd.read_csv(\"DueDates.csv\")\n",
    "    BuildFrames(File)\n",
    "\n",
    "if __name__ == \"__main__\":\n",
    "    main()"
   ]
  }
 ],
 "metadata": {
  "kernelspec": {
   "display_name": "Python 3",
   "language": "python",
   "name": "python3"
  },
  "language_info": {
   "codemirror_mode": {
    "name": "ipython",
    "version": 3
   },
   "file_extension": ".py",
   "mimetype": "text/x-python",
   "name": "python",
   "nbconvert_exporter": "python",
   "pygments_lexer": "ipython3",
   "version": "3.12.1"
  }
 },
 "nbformat": 4,
 "nbformat_minor": 2
}
